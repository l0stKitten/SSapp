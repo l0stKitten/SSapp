{
  "nbformat": 4,
  "nbformat_minor": 0,
  "metadata": {
    "colab": {
      "provenance": []
    },
    "kernelspec": {
      "name": "python3",
      "display_name": "Python 3"
    },
    "language_info": {
      "name": "python"
    }
  },
  "cells": [
    {
      "cell_type": "markdown",
      "source": [
        " # Bi-LSTM\n",
        " Base del código de Geeks for Geeks https://www.geeksforgeeks.org/bidirectional-lstm-in-nlp/"
      ],
      "metadata": {
        "id": "julnURDsXrBC"
      }
    },
    {
      "cell_type": "markdown",
      "source": [
        "## Importar datos y librerías"
      ],
      "metadata": {
        "id": "IEDm1ejBx2FL"
      }
    },
    {
      "cell_type": "code",
      "execution_count": null,
      "metadata": {
        "id": "yOCtKmyyxuV6"
      },
      "outputs": [],
      "source": [
        "import tensorflow as tf\n",
        "import pandas as pd\n",
        "import numpy as np\n",
        "import matplotlib.pyplot as plt\n",
        "from sklearn.model_selection import train_test_split\n",
        "\n",
        "from sklearn.utils import resample"
      ]
    },
    {
      "cell_type": "markdown",
      "source": [
        "Conectamos el drive"
      ],
      "metadata": {
        "id": "oYyyKbTw0-RJ"
      }
    },
    {
      "cell_type": "code",
      "source": [
        "from google.colab import drive\n",
        "drive.mount('/content/drive/')"
      ],
      "metadata": {
        "colab": {
          "base_uri": "https://localhost:8080/"
        },
        "id": "DQMiLvdn1PJC",
        "outputId": "4f270ee4-0d99-45b0-bcdd-2409b2672480"
      },
      "execution_count": null,
      "outputs": [
        {
          "output_type": "stream",
          "name": "stdout",
          "text": [
            "Mounted at /content/drive/\n"
          ]
        }
      ]
    },
    {
      "cell_type": "code",
      "source": [
        "path = '/content/drive/MyDrive/Data Tesis/Datos clasificados/'"
      ],
      "metadata": {
        "id": "cKyaDNtKm4H4"
      },
      "execution_count": null,
      "outputs": []
    },
    {
      "cell_type": "code",
      "source": [
        "# Load your CSV dataset using pandas\n",
        "df = pd.read_csv(path + 'updated_sentiment_data.csv')\n",
        "\n",
        "# Assuming your dataset has 'text' and 'label' columns\n",
        "texts = df['Content'].values\n",
        "labels = df['Sentiment'].values\n",
        "\n",
        "# Split into training and test sets\n",
        "train_texts, test_texts, train_labels, test_labels = train_test_split(texts, labels, test_size=0.2, random_state=42)\n",
        "\n",
        "# Convert the data into a TensorFlow dataset\n",
        "def make_dataset(texts, labels):\n",
        "    dataset = tf.data.Dataset.from_tensor_slices((texts, labels))\n",
        "    return dataset\n",
        "\n",
        "train_dataset = make_dataset(train_texts, train_labels)\n",
        "test_dataset = make_dataset(test_texts, test_labels)\n",
        "\n",
        "# Batch and shuffle the training dataset\n",
        "batch_size = 32\n",
        "train_dataset = train_dataset.shuffle(10000).batch(batch_size)\n",
        "test_dataset = test_dataset.batch(batch_size)"
      ],
      "metadata": {
        "id": "w65sZD-h3qSI"
      },
      "execution_count": null,
      "outputs": []
    },
    {
      "cell_type": "code",
      "source": [
        "# Find the maximum length of text in the 'Content' column\n",
        "mean_length = df['Content'].apply(len).mean()\n",
        "\n",
        "print(\"Mean length of text in 'Content' column:\", mean_length)"
      ],
      "metadata": {
        "colab": {
          "base_uri": "https://localhost:8080/"
        },
        "id": "QCWP-SdRSH9Q",
        "outputId": "653a4ad6-1107-4011-ff4e-5771e08ad383"
      },
      "execution_count": null,
      "outputs": [
        {
          "output_type": "stream",
          "name": "stdout",
          "text": [
            "Mean length of text in 'Content' column: 381.2891666666667\n"
          ]
        }
      ]
    },
    {
      "cell_type": "code",
      "source": [
        "example, label = next(iter(train_dataset))\n",
        "print('Text:\\n', example.numpy()[0])\n",
        "print('\\nLabel: ', label.numpy()[0])"
      ],
      "metadata": {
        "colab": {
          "base_uri": "https://localhost:8080/"
        },
        "id": "YCScibYd37Us",
        "outputId": "3f99a028-9bca-41d3-9a00-4664fbead8d2"
      },
      "execution_count": null,
      "outputs": [
        {
          "output_type": "stream",
          "name": "stdout",
          "text": [
            "Text:\n",
            " b\"I know the feeling. I'm too distraught by my own pain at the moment to express more than that but I know the feeling. I just fucking wish I could fix it but I can't.\"\n",
            "\n",
            "Label:  5\n"
          ]
        }
      ]
    },
    {
      "cell_type": "markdown",
      "source": [
        "## Preparar los datos"
      ],
      "metadata": {
        "id": "_w2HLHR5xEoK"
      }
    },
    {
      "cell_type": "code",
      "source": [
        "path = '/content/drive/MyDrive/Data Tesis/Datos clasificados/'"
      ],
      "metadata": {
        "id": "UxOoqtiCxs57"
      },
      "execution_count": null,
      "outputs": []
    },
    {
      "cell_type": "code",
      "source": [
        "# Load your CSV dataset using pandas\n",
        "df = pd.read_csv(path + 'updated_sentiment_data.csv')\n",
        "\n",
        "# Filter dataset to only include labels 1, 2, and 3\n",
        "df = df[df['Sentiment'].isin([1, 2, 3, 5])]\n",
        "\n",
        "# Separate data by label\n",
        "df_label_1 = df[df['Sentiment'] == 1]\n",
        "df_label_2 = df[df['Sentiment'] == 2]\n",
        "df_label_3 = df[df['Sentiment'] == 3]\n",
        "df_label_5 = df[df['Sentiment'] == 5]\n",
        "\n",
        "# Find the maximum count for balancing (based on the largest label count)\n",
        "target_count = max(len(df_label_1), len(df_label_2), len(df_label_3), len(df_label_5))\n",
        "print(len(df_label_1))\n",
        "print(len(df_label_2))\n",
        "print(len(df_label_3))\n",
        "print(len(df_label_5))\n",
        "print(target_count)"
      ],
      "metadata": {
        "colab": {
          "base_uri": "https://localhost:8080/"
        },
        "id": "fshOphxJyhUu",
        "outputId": "d3745cfe-e387-4bbe-9278-f4f38a17c0e0"
      },
      "execution_count": null,
      "outputs": [
        {
          "output_type": "stream",
          "name": "stdout",
          "text": [
            "91\n",
            "46\n",
            "144\n",
            "916\n",
            "916\n"
          ]
        }
      ]
    },
    {
      "cell_type": "code",
      "source": [
        "# Oversample labels 1 and 2 to match the target count\n",
        "df_label_1_oversampled = resample(df_label_1, replace=True, n_samples=target_count, random_state=42)\n",
        "df_label_2_oversampled = resample(df_label_2, replace=True, n_samples=target_count, random_state=42)\n",
        "df_label_3_oversampled = resample(df_label_3, replace=True, n_samples=target_count, random_state=42)\n",
        "\n",
        "# Combine the balanced data\n",
        "df_balanced = pd.concat([df_label_1_oversampled, df_label_2_oversampled, df_label_3_oversampled, df_label_5])\n",
        "\n",
        "# Shuffle the dataset to ensure random distribution\n",
        "df_balanced = df_balanced.sample(frac=1, random_state=42).reset_index(drop=True)"
      ],
      "metadata": {
        "id": "dXZ1G2QZzHaj"
      },
      "execution_count": null,
      "outputs": []
    },
    {
      "cell_type": "code",
      "source": [
        "# Extract texts and labels from the balanced dataset\n",
        "texts = df_balanced['Content'].values\n",
        "labels = df_balanced['Sentiment'].values\n",
        "\n",
        "label_mapping = {1: 0, 2: 1, 3: 2, 5: 3}\n",
        "labels = np.array([label_mapping[label] for label in labels])\n",
        "\n",
        "# Split into training and test sets\n",
        "train_texts, test_texts, train_labels, test_labels = train_test_split(texts, labels, test_size=0.2, random_state=42)\n",
        "\n",
        "# Convert the data into a TensorFlow dataset\n",
        "def make_dataset(texts, labels):\n",
        "    dataset = tf.data.Dataset.from_tensor_slices((texts, labels))\n",
        "    return dataset\n",
        "\n",
        "train_dataset = make_dataset(train_texts, train_labels)\n",
        "test_dataset = make_dataset(test_texts, test_labels)\n",
        "\n",
        "# Batch and shuffle the training dataset\n",
        "batch_size = 32\n",
        "train_dataset = train_dataset.shuffle(10000).batch(batch_size)\n",
        "test_dataset = test_dataset.batch(batch_size)"
      ],
      "metadata": {
        "id": "9g6YW_tNxGpL"
      },
      "execution_count": null,
      "outputs": []
    },
    {
      "cell_type": "code",
      "source": [
        "example, label = next(iter(train_dataset))\n",
        "print('Text:\\n', example.numpy()[0])\n",
        "print('\\nLabel: ', label.numpy()[0])"
      ],
      "metadata": {
        "colab": {
          "base_uri": "https://localhost:8080/"
        },
        "id": "nW8YWINwzMgQ",
        "outputId": "63a6b6bc-5116-4e18-907c-4b0cb2b5d529"
      },
      "execution_count": null,
      "outputs": [
        {
          "output_type": "stream",
          "name": "stdout",
          "text": [
            "Text:\n",
            " b\"I wasn't warned, I wasn't warned by my psychiatrist that I could end up like that, agonizing every minute of every second of every single day.\\n\\nAntidepressants and other psych drugs damaged my brain and put me in a position I wouldn't wish not even to my worst enemy.\\n\\nMy sexuality has been obliterated: total loss of libido, erectile dysfunction, reduced sensitivity in genitalia, pleasureless orgasms. Sadly that's just the tip of the iceberg. The main problem here is that my body cannot produce any kind of pleasurable feeling because of the malfunctioning of the brain reward system. I know it seems like it can't be real, but trust me, I can't really enjoy not even a single thing in my life because my reward/dopamine pathaway has been somehow altered. I can't feel hungry or enjoy a (good) meal, I can't feel the endorphins rush/good sensations after a sport session, I can't feel the effect of most drugs (coffee, nicotine, alcohol, heroin, you name it\\xe2\\x80\\xa6). My body is always in a state of tension (or light akathisia) thus I never ever fully relax, no matter how hard I worked or did exercise that day, I have persistent insomnia and my sleep is more like a shift in consciousness than real deep resting sleep. I'm always weak and tired. Except for some rare bursts of rage or sadness, I lost my emotional range, I can't really feel emotional pain, true sadness, joy, happiness, tranquility. There's no atmosphere anymore in the world, everything became grey, muted. There's no motivation, no drive, no emotions, no pleasure in every activity I once loved, like spending time with my friends and family, go out for a drink, cuddling my beloved dog, playing my favourite sports, watching my favourite movies, reading a good book, getting a full body massage, hiking in the beautiful swiss alps, etc. (the list has no end). On top of that I also suffer from a certain degree of cognitive decline, I struggle to read, sometimes I stumble upon words, I can't concentrate, I really feel like I lost part of my intelligence and I'm definitely not as brilliant as I used to be. I had to quit University 6 months prior to get my master's degree because my brain was not capable to perform at the required level.\\n\\nIt's been a year I'm off the meds which caused me pssd and everything almost stayed the same. Some things have slightly improved, others got worse. What is clear is that I became an empty shell, the shadow of my former self, a dead soul in a living body.\\nI really want to live because I had everything I wished for before I got PSSD (and believe me, I worked very hard and I overcame loads of shit just to get to that point), but at the same time I want to die as badly as I can. In these last months, where I had a bit more physical energy I tried to do regular exercise, to be socially more active, to better my diet, to force my self to have a more positive look at the future. But still, no matter the efforts, there's never some sort of reward or real improvements in my condition. I've been severely anxious and depressed in the past, but that was a walk in the park compared to this full blown PSSD. Today, in the first place, my brain does not produce the required neurotransmitters in order to be goal driven, to have motivation, to enjoy things. Second of all, even if I put all my effort in order to be active and take part in different activities, there's not even a single drop of reward in return.\\n\\nSo what's the point of going on? I really can't get it. I don't know if you, reading this post, can grasp how hard and strenuous and depressing is to live with this condition, but I really hope you do.\\nI always fought hard in my life, no matter what, if I had to overcome an obstacle or if I wanted something, I always worked twice as harder as the others in order to reach my goal. But now\\xe2\\x80\\xa6 now even if I put all my effort, even if I give my 1000% to better my situation, the outcome will always be the same, no positive change, outcome or temporary feeling whatsoever.\\n\\nAs most people with PSSD I've been gaslighted by every psychiatrists. I even attempted to unalive myself once and I've been labelled as psychotic (even though I clearly wasn't) in a matter of minutes from the psychiatrist at the state mental hospital. There I was given tons of antipsychotics to the point I was barely able to talk, walk straight, keep my vision from going double, swallow food, tap on the iPhone keyboard, writing, sit still, etc.\\n\\nAnyway the bad story is not over, I could go on recalling all the shit and the injustices I had to face in the last twelve months, because of pssd and because of being wrongly labelled as psychotic and forced on strong medications, but that's not the point of my thread.\\n\\nActually, I don't know what's the purpose of this post. I guess I'm looking for some sort of approval for my decision of ending it all\\xe2\\x80\\xa6 but most likely I just need to vent, to tell somebody how tired and agonizing I am.\\n\\nI believe in reincarnation and I've been thought that ctb is never a solution, but gosh, that's just too much to tolerate. I look at my situation as if I was prisoner who's physically tortured daily since one year and who finally managed to fabricate a rope to hang himself in his cell, how could God blame (or punish) this poor prisoner for taking his own life?\\n\\nI'm sorry for the lack of introduction or conclusion to this text, I hope it's not confusing. The thing is that I'm just venting, putting my flow of sad thoughts into words.\\n\\nI wish everybody here to recover and go back to live their life to the fullest leaving suicidal ideations as a thing of the past, but just one last thing: please be careful when it comes to psychiatric drugs, think twice before starting any therapy, look up all the possible (short and long term) side effects, discuss it seriously with your entourage and make a true informed choice. Don't risk to waste your life as I sadly did.\"\n",
            "\n",
            "Label:  1\n"
          ]
        }
      ]
    },
    {
      "cell_type": "markdown",
      "source": [
        "## Modelo"
      ],
      "metadata": {
        "id": "ALq1_A7q4Fc_"
      }
    },
    {
      "cell_type": "markdown",
      "source": [
        "### Encoder"
      ],
      "metadata": {
        "id": "XRfNeOD-uqRr"
      }
    },
    {
      "cell_type": "code",
      "source": [
        "def calculate_average_length(dataset):\n",
        "    lengths = []\n",
        "    for text, _ in dataset:\n",
        "        # Convert the tensor to a numpy array and then to a list of strings\n",
        "        # Assuming text is a 1D tensor\n",
        "        text_list = text.numpy().tolist()  # Convert to list of strings\n",
        "        for t in text_list:\n",
        "            lengths.append(len(t.split()))  # Count the number of tokens\n",
        "    return sum(lengths) // len(lengths) if lengths else 0  # Handle empty case\n",
        "\n",
        "# Calculate average sequence length in train_dataset\n",
        "avg_length = calculate_average_length(train_dataset)\n",
        "print(\"Average text length:\", avg_length)"
      ],
      "metadata": {
        "colab": {
          "base_uri": "https://localhost:8080/"
        },
        "id": "PCC4i0XuusBZ",
        "outputId": "debf3d7f-d251-4297-ec28-2512aa503226"
      },
      "execution_count": null,
      "outputs": [
        {
          "output_type": "stream",
          "name": "stdout",
          "text": [
            "Average text length: 117\n"
          ]
        }
      ]
    },
    {
      "cell_type": "code",
      "source": [
        "# Using the TextVectorization layer to normalize, split, and map strings\n",
        "# to integers.\n",
        "encoder = tf.keras.layers.TextVectorization(\n",
        "    max_tokens=10000,\n",
        "    output_mode='int',\n",
        "    output_sequence_length=min(512, int(avg_length * 1.5))  # Adjust as needed\n",
        ")\n",
        "encoder.adapt(train_dataset.map(lambda text, label: text))\n",
        "\n",
        "# Extracting the vocabulary from the TextVectorization layer.\n",
        "vocabulary = np.array(encoder.get_vocabulary())\n",
        "\n",
        "# Encoding a test example and decoding it back.\n",
        "original_text = example.numpy()[0]\n",
        "encoded_text = encoder(original_text).numpy()\n",
        "decoded_text = ' '.join(vocabulary[encoded_text])\n",
        "\n",
        "print('original: ', original_text)\n",
        "print('encoded: ', encoded_text)\n",
        "print('decoded: ', decoded_text)"
      ],
      "metadata": {
        "colab": {
          "base_uri": "https://localhost:8080/"
        },
        "id": "poZpjeGH4Go3",
        "outputId": "fabae09b-f681-4cb8-e627-7b3adbd0ac27"
      },
      "execution_count": null,
      "outputs": [
        {
          "output_type": "stream",
          "name": "stdout",
          "text": [
            "original:  b\"I wasn't warned, I wasn't warned by my psychiatrist that I could end up like that, agonizing every minute of every second of every single day.\\n\\nAntidepressants and other psych drugs damaged my brain and put me in a position I wouldn't wish not even to my worst enemy.\\n\\nMy sexuality has been obliterated: total loss of libido, erectile dysfunction, reduced sensitivity in genitalia, pleasureless orgasms. Sadly that's just the tip of the iceberg. The main problem here is that my body cannot produce any kind of pleasurable feeling because of the malfunctioning of the brain reward system. I know it seems like it can't be real, but trust me, I can't really enjoy not even a single thing in my life because my reward/dopamine pathaway has been somehow altered. I can't feel hungry or enjoy a (good) meal, I can't feel the endorphins rush/good sensations after a sport session, I can't feel the effect of most drugs (coffee, nicotine, alcohol, heroin, you name it\\xe2\\x80\\xa6). My body is always in a state of tension (or light akathisia) thus I never ever fully relax, no matter how hard I worked or did exercise that day, I have persistent insomnia and my sleep is more like a shift in consciousness than real deep resting sleep. I'm always weak and tired. Except for some rare bursts of rage or sadness, I lost my emotional range, I can't really feel emotional pain, true sadness, joy, happiness, tranquility. There's no atmosphere anymore in the world, everything became grey, muted. There's no motivation, no drive, no emotions, no pleasure in every activity I once loved, like spending time with my friends and family, go out for a drink, cuddling my beloved dog, playing my favourite sports, watching my favourite movies, reading a good book, getting a full body massage, hiking in the beautiful swiss alps, etc. (the list has no end). On top of that I also suffer from a certain degree of cognitive decline, I struggle to read, sometimes I stumble upon words, I can't concentrate, I really feel like I lost part of my intelligence and I'm definitely not as brilliant as I used to be. I had to quit University 6 months prior to get my master's degree because my brain was not capable to perform at the required level.\\n\\nIt's been a year I'm off the meds which caused me pssd and everything almost stayed the same. Some things have slightly improved, others got worse. What is clear is that I became an empty shell, the shadow of my former self, a dead soul in a living body.\\nI really want to live because I had everything I wished for before I got PSSD (and believe me, I worked very hard and I overcame loads of shit just to get to that point), but at the same time I want to die as badly as I can. In these last months, where I had a bit more physical energy I tried to do regular exercise, to be socially more active, to better my diet, to force my self to have a more positive look at the future. But still, no matter the efforts, there's never some sort of reward or real improvements in my condition. I've been severely anxious and depressed in the past, but that was a walk in the park compared to this full blown PSSD. Today, in the first place, my brain does not produce the required neurotransmitters in order to be goal driven, to have motivation, to enjoy things. Second of all, even if I put all my effort in order to be active and take part in different activities, there's not even a single drop of reward in return.\\n\\nSo what's the point of going on? I really can't get it. I don't know if you, reading this post, can grasp how hard and strenuous and depressing is to live with this condition, but I really hope you do.\\nI always fought hard in my life, no matter what, if I had to overcome an obstacle or if I wanted something, I always worked twice as harder as the others in order to reach my goal. But now\\xe2\\x80\\xa6 now even if I put all my effort, even if I give my 1000% to better my situation, the outcome will always be the same, no positive change, outcome or temporary feeling whatsoever.\\n\\nAs most people with PSSD I've been gaslighted by every psychiatrists. I even attempted to unalive myself once and I've been labelled as psychotic (even though I clearly wasn't) in a matter of minutes from the psychiatrist at the state mental hospital. There I was given tons of antipsychotics to the point I was barely able to talk, walk straight, keep my vision from going double, swallow food, tap on the iPhone keyboard, writing, sit still, etc.\\n\\nAnyway the bad story is not over, I could go on recalling all the shit and the injustices I had to face in the last twelve months, because of pssd and because of being wrongly labelled as psychotic and forced on strong medications, but that's not the point of my thread.\\n\\nActually, I don't know what's the purpose of this post. I guess I'm looking for some sort of approval for my decision of ending it all\\xe2\\x80\\xa6 but most likely I just need to vent, to tell somebody how tired and agonizing I am.\\n\\nI believe in reincarnation and I've been thought that ctb is never a solution, but gosh, that's just too much to tolerate. I look at my situation as if I was prisoner who's physically tortured daily since one year and who finally managed to fabricate a rope to hang himself in his cell, how could God blame (or punish) this poor prisoner for taking his own life?\\n\\nI'm sorry for the lack of introduction or conclusion to this text, I hope it's not confusing. The thing is that I'm just venting, putting my flow of sad thoughts into words.\\n\\nI wish everybody here to recover and go back to live their life to the fullest leaving suicidal ideations as a thing of the past, but just one last thing: please be careful when it comes to psychiatric drugs, think twice before starting any therapy, look up all the possible (short and long term) side effects, discuss it seriously with your entourage and make a true informed choice. Don't risk to waste your life as I sadly did.\"\n",
            "encoded:  [   2  300  824    2  300  824   82    7  693   10    2   81  143   50\n",
            "   32   10  940  114  661    8  114  375    8  114  327  104  767    4\n",
            "  157  703  406 1093    7  234    4  228   13   11    6  529    2  262\n",
            "  156   24   45    3    7  395 1626    7 1683   78   55 1708 1206  887\n",
            "    8 1598 1744 1527 1500 1684   11 1736 1701 1707  617  110   20    5\n",
            " 1385    8    5 1728    5  607  267   75   15   10    7  162  499  885\n",
            "   90  265    8 1702  132   54    8    5 1715    8    5  234  686  602\n",
            "    2   51    9  316   32    9   68   19  252   14  634   13    2   68\n",
            "   60  383   24   45    6  327  183   11    7   43   54    7 1687 1706\n",
            "   78   55  728 1768    2   68   44  872   30  383    6  105 1514    2\n",
            "   68   44    5 1333 1686 1685  113    6 1679 1574    2   68   44    5\n",
            " 1126    8  177  406 1537 1588  547 1733   18  742 1723    7  162   15\n",
            "  107   11    6  329    8 1558   30]\n",
            "decoded:  i wasnt warned i wasnt warned by my psychiatrist that i could end up like that agonizing every minute of every second of every single day antidepressants and other psych drugs damaged my brain and put me in a position i wouldnt wish not even to my worst enemy my sexuality has been obliterated total loss of libido erectile dysfunction reduced sensitivity in genitalia pleasureless orgasms sadly thats just the tip of the iceberg the main problem here is that my body cannot produce any kind of pleasurable feeling because of the malfunctioning of the brain reward system i know it seems like it cant be real but trust me i cant really enjoy not even a single thing in my life because my rewarddopamine pathaway has been somehow altered i cant feel hungry or enjoy a good meal i cant feel the endorphins rushgood sensations after a sport session i cant feel the effect of most drugs coffee nicotine alcohol heroin you name it… my body is always in a state of tension or\n"
          ]
        }
      ]
    },
    {
      "cell_type": "code",
      "source": [
        "# Adjusting the final layer and using softmax for multiclass classification\n",
        "model = tf.keras.Sequential([\n",
        "    tf.keras.Input(shape=(1,), dtype=tf.string),  # Use shape (1,) for each string entry\n",
        "    encoder,  # Text encoder layer (like TextVectorization) to convert strings to sequences\n",
        "    tf.keras.layers.Embedding(input_dim=len(encoder.get_vocabulary()), output_dim=64, mask_zero=True),\n",
        "    tf.keras.layers.Bidirectional(tf.keras.layers.LSTM(64, return_sequences=True)),\n",
        "    tf.keras.layers.Bidirectional(tf.keras.layers.LSTM(32)),\n",
        "    tf.keras.layers.Dense(64, activation='relu'),\n",
        "    tf.keras.layers.Dense(4, activation='softmax')  # Assuming 7 classes for softmax\n",
        "])\n",
        "\n",
        "# Summary of the model\n",
        "model.summary()\n",
        "\n",
        "# Compile the model\n",
        "model.compile(\n",
        "    loss=tf.keras.losses.SparseCategoricalCrossentropy(from_logits=False),  # For integer-encoded labels\n",
        "    optimizer=tf.keras.optimizers.Adam(),\n",
        "    metrics=['accuracy']\n",
        ")"
      ],
      "metadata": {
        "colab": {
          "base_uri": "https://localhost:8080/",
          "height": 337
        },
        "id": "d3o-rdgv4N39",
        "outputId": "ba40c4b5-9ede-457d-86f3-c472825ca5c6"
      },
      "execution_count": null,
      "outputs": [
        {
          "output_type": "display_data",
          "data": {
            "text/plain": [
              "\u001b[1mModel: \"sequential_4\"\u001b[0m\n"
            ],
            "text/html": [
              "<pre style=\"white-space:pre;overflow-x:auto;line-height:normal;font-family:Menlo,'DejaVu Sans Mono',consolas,'Courier New',monospace\"><span style=\"font-weight: bold\">Model: \"sequential_4\"</span>\n",
              "</pre>\n"
            ]
          },
          "metadata": {}
        },
        {
          "output_type": "display_data",
          "data": {
            "text/plain": [
              "┏━━━━━━━━━━━━━━━━━━━━━━━━━━━━━━━━━━━━━━┳━━━━━━━━━━━━━━━━━━━━━━━━━━━━━┳━━━━━━━━━━━━━━━━━┓\n",
              "┃\u001b[1m \u001b[0m\u001b[1mLayer (type)                        \u001b[0m\u001b[1m \u001b[0m┃\u001b[1m \u001b[0m\u001b[1mOutput Shape               \u001b[0m\u001b[1m \u001b[0m┃\u001b[1m \u001b[0m\u001b[1m        Param #\u001b[0m\u001b[1m \u001b[0m┃\n",
              "┡━━━━━━━━━━━━━━━━━━━━━━━━━━━━━━━━━━━━━━╇━━━━━━━━━━━━━━━━━━━━━━━━━━━━━╇━━━━━━━━━━━━━━━━━┩\n",
              "│ text_vectorization_1                 │ (\u001b[38;5;45mNone\u001b[0m, \u001b[38;5;34m175\u001b[0m)                 │               \u001b[38;5;34m0\u001b[0m │\n",
              "│ (\u001b[38;5;33mTextVectorization\u001b[0m)                  │                             │                 │\n",
              "├──────────────────────────────────────┼─────────────────────────────┼─────────────────┤\n",
              "│ embedding_4 (\u001b[38;5;33mEmbedding\u001b[0m)              │ (\u001b[38;5;45mNone\u001b[0m, \u001b[38;5;34m175\u001b[0m, \u001b[38;5;34m64\u001b[0m)             │         \u001b[38;5;34m446,656\u001b[0m │\n",
              "├──────────────────────────────────────┼─────────────────────────────┼─────────────────┤\n",
              "│ bidirectional_8 (\u001b[38;5;33mBidirectional\u001b[0m)      │ (\u001b[38;5;45mNone\u001b[0m, \u001b[38;5;34m175\u001b[0m, \u001b[38;5;34m128\u001b[0m)            │          \u001b[38;5;34m66,048\u001b[0m │\n",
              "├──────────────────────────────────────┼─────────────────────────────┼─────────────────┤\n",
              "│ bidirectional_9 (\u001b[38;5;33mBidirectional\u001b[0m)      │ (\u001b[38;5;45mNone\u001b[0m, \u001b[38;5;34m64\u001b[0m)                  │          \u001b[38;5;34m41,216\u001b[0m │\n",
              "├──────────────────────────────────────┼─────────────────────────────┼─────────────────┤\n",
              "│ dense_8 (\u001b[38;5;33mDense\u001b[0m)                      │ (\u001b[38;5;45mNone\u001b[0m, \u001b[38;5;34m64\u001b[0m)                  │           \u001b[38;5;34m4,160\u001b[0m │\n",
              "├──────────────────────────────────────┼─────────────────────────────┼─────────────────┤\n",
              "│ dense_9 (\u001b[38;5;33mDense\u001b[0m)                      │ (\u001b[38;5;45mNone\u001b[0m, \u001b[38;5;34m4\u001b[0m)                   │             \u001b[38;5;34m260\u001b[0m │\n",
              "└──────────────────────────────────────┴─────────────────────────────┴─────────────────┘\n"
            ],
            "text/html": [
              "<pre style=\"white-space:pre;overflow-x:auto;line-height:normal;font-family:Menlo,'DejaVu Sans Mono',consolas,'Courier New',monospace\">┏━━━━━━━━━━━━━━━━━━━━━━━━━━━━━━━━━━━━━━┳━━━━━━━━━━━━━━━━━━━━━━━━━━━━━┳━━━━━━━━━━━━━━━━━┓\n",
              "┃<span style=\"font-weight: bold\"> Layer (type)                         </span>┃<span style=\"font-weight: bold\"> Output Shape                </span>┃<span style=\"font-weight: bold\">         Param # </span>┃\n",
              "┡━━━━━━━━━━━━━━━━━━━━━━━━━━━━━━━━━━━━━━╇━━━━━━━━━━━━━━━━━━━━━━━━━━━━━╇━━━━━━━━━━━━━━━━━┩\n",
              "│ text_vectorization_1                 │ (<span style=\"color: #00d7ff; text-decoration-color: #00d7ff\">None</span>, <span style=\"color: #00af00; text-decoration-color: #00af00\">175</span>)                 │               <span style=\"color: #00af00; text-decoration-color: #00af00\">0</span> │\n",
              "│ (<span style=\"color: #0087ff; text-decoration-color: #0087ff\">TextVectorization</span>)                  │                             │                 │\n",
              "├──────────────────────────────────────┼─────────────────────────────┼─────────────────┤\n",
              "│ embedding_4 (<span style=\"color: #0087ff; text-decoration-color: #0087ff\">Embedding</span>)              │ (<span style=\"color: #00d7ff; text-decoration-color: #00d7ff\">None</span>, <span style=\"color: #00af00; text-decoration-color: #00af00\">175</span>, <span style=\"color: #00af00; text-decoration-color: #00af00\">64</span>)             │         <span style=\"color: #00af00; text-decoration-color: #00af00\">446,656</span> │\n",
              "├──────────────────────────────────────┼─────────────────────────────┼─────────────────┤\n",
              "│ bidirectional_8 (<span style=\"color: #0087ff; text-decoration-color: #0087ff\">Bidirectional</span>)      │ (<span style=\"color: #00d7ff; text-decoration-color: #00d7ff\">None</span>, <span style=\"color: #00af00; text-decoration-color: #00af00\">175</span>, <span style=\"color: #00af00; text-decoration-color: #00af00\">128</span>)            │          <span style=\"color: #00af00; text-decoration-color: #00af00\">66,048</span> │\n",
              "├──────────────────────────────────────┼─────────────────────────────┼─────────────────┤\n",
              "│ bidirectional_9 (<span style=\"color: #0087ff; text-decoration-color: #0087ff\">Bidirectional</span>)      │ (<span style=\"color: #00d7ff; text-decoration-color: #00d7ff\">None</span>, <span style=\"color: #00af00; text-decoration-color: #00af00\">64</span>)                  │          <span style=\"color: #00af00; text-decoration-color: #00af00\">41,216</span> │\n",
              "├──────────────────────────────────────┼─────────────────────────────┼─────────────────┤\n",
              "│ dense_8 (<span style=\"color: #0087ff; text-decoration-color: #0087ff\">Dense</span>)                      │ (<span style=\"color: #00d7ff; text-decoration-color: #00d7ff\">None</span>, <span style=\"color: #00af00; text-decoration-color: #00af00\">64</span>)                  │           <span style=\"color: #00af00; text-decoration-color: #00af00\">4,160</span> │\n",
              "├──────────────────────────────────────┼─────────────────────────────┼─────────────────┤\n",
              "│ dense_9 (<span style=\"color: #0087ff; text-decoration-color: #0087ff\">Dense</span>)                      │ (<span style=\"color: #00d7ff; text-decoration-color: #00d7ff\">None</span>, <span style=\"color: #00af00; text-decoration-color: #00af00\">4</span>)                   │             <span style=\"color: #00af00; text-decoration-color: #00af00\">260</span> │\n",
              "└──────────────────────────────────────┴─────────────────────────────┴─────────────────┘\n",
              "</pre>\n"
            ]
          },
          "metadata": {}
        },
        {
          "output_type": "display_data",
          "data": {
            "text/plain": [
              "\u001b[1m Total params: \u001b[0m\u001b[38;5;34m558,340\u001b[0m (2.13 MB)\n"
            ],
            "text/html": [
              "<pre style=\"white-space:pre;overflow-x:auto;line-height:normal;font-family:Menlo,'DejaVu Sans Mono',consolas,'Courier New',monospace\"><span style=\"font-weight: bold\"> Total params: </span><span style=\"color: #00af00; text-decoration-color: #00af00\">558,340</span> (2.13 MB)\n",
              "</pre>\n"
            ]
          },
          "metadata": {}
        },
        {
          "output_type": "display_data",
          "data": {
            "text/plain": [
              "\u001b[1m Trainable params: \u001b[0m\u001b[38;5;34m558,340\u001b[0m (2.13 MB)\n"
            ],
            "text/html": [
              "<pre style=\"white-space:pre;overflow-x:auto;line-height:normal;font-family:Menlo,'DejaVu Sans Mono',consolas,'Courier New',monospace\"><span style=\"font-weight: bold\"> Trainable params: </span><span style=\"color: #00af00; text-decoration-color: #00af00\">558,340</span> (2.13 MB)\n",
              "</pre>\n"
            ]
          },
          "metadata": {}
        },
        {
          "output_type": "display_data",
          "data": {
            "text/plain": [
              "\u001b[1m Non-trainable params: \u001b[0m\u001b[38;5;34m0\u001b[0m (0.00 B)\n"
            ],
            "text/html": [
              "<pre style=\"white-space:pre;overflow-x:auto;line-height:normal;font-family:Menlo,'DejaVu Sans Mono',consolas,'Courier New',monospace\"><span style=\"font-weight: bold\"> Non-trainable params: </span><span style=\"color: #00af00; text-decoration-color: #00af00\">0</span> (0.00 B)\n",
              "</pre>\n"
            ]
          },
          "metadata": {}
        }
      ]
    },
    {
      "cell_type": "code",
      "source": [
        "# Training the model and validating it on test set\n",
        "history = model.fit(\n",
        "    train_dataset,\n",
        "    epochs=5,\n",
        "    validation_data=test_dataset,\n",
        ")"
      ],
      "metadata": {
        "colab": {
          "base_uri": "https://localhost:8080/"
        },
        "id": "p7XPYbZ54n0X",
        "outputId": "3204a3c7-e5fe-40a7-d268-672736c5a514"
      },
      "execution_count": null,
      "outputs": [
        {
          "output_type": "stream",
          "name": "stdout",
          "text": [
            "Epoch 1/5\n",
            "\u001b[1m92/92\u001b[0m \u001b[32m━━━━━━━━━━━━━━━━━━━━\u001b[0m\u001b[37m\u001b[0m \u001b[1m62s\u001b[0m 578ms/step - accuracy: 0.4058 - loss: 1.2246 - val_accuracy: 0.8622 - val_loss: 0.4556\n",
            "Epoch 2/5\n",
            "\u001b[1m92/92\u001b[0m \u001b[32m━━━━━━━━━━━━━━━━━━━━\u001b[0m\u001b[37m\u001b[0m \u001b[1m77s\u001b[0m 533ms/step - accuracy: 0.9155 - loss: 0.2768 - val_accuracy: 0.9468 - val_loss: 0.1483\n",
            "Epoch 3/5\n",
            "\u001b[1m92/92\u001b[0m \u001b[32m━━━━━━━━━━━━━━━━━━━━\u001b[0m\u001b[37m\u001b[0m \u001b[1m49s\u001b[0m 532ms/step - accuracy: 0.9781 - loss: 0.0695 - val_accuracy: 0.9727 - val_loss: 0.0874\n",
            "Epoch 4/5\n",
            "\u001b[1m92/92\u001b[0m \u001b[32m━━━━━━━━━━━━━━━━━━━━\u001b[0m\u001b[37m\u001b[0m \u001b[1m82s\u001b[0m 532ms/step - accuracy: 0.9877 - loss: 0.0399 - val_accuracy: 0.9727 - val_loss: 0.0980\n",
            "Epoch 5/5\n",
            "\u001b[1m92/92\u001b[0m \u001b[32m━━━━━━━━━━━━━━━━━━━━\u001b[0m\u001b[37m\u001b[0m \u001b[1m49s\u001b[0m 537ms/step - accuracy: 0.9992 - loss: 0.0140 - val_accuracy: 0.9795 - val_loss: 0.0807\n"
          ]
        }
      ]
    },
    {
      "cell_type": "code",
      "source": [
        "# Training history\n",
        "history_dict = history.history\n",
        "\n",
        "# Seperating validation and training accuracy\n",
        "acc = history_dict['accuracy']\n",
        "val_acc = history_dict['val_accuracy']\n",
        "\n",
        "# Seperating validation and training loss\n",
        "loss = history_dict['loss']\n",
        "val_loss = history_dict['val_loss']\n",
        "\n",
        "# Plotting\n",
        "plt.figure(figsize=(8, 4))\n",
        "plt.subplot(1, 2, 1)\n",
        "plt.plot(acc)\n",
        "plt.plot(val_acc)\n",
        "plt.title('Training and Validation Accuracy')\n",
        "plt.xlabel('Epochs')\n",
        "plt.ylabel('Accuracy')\n",
        "plt.legend(['Accuracy', 'Validation Accuracy'])\n",
        "\n",
        "plt.subplot(1, 2, 2)\n",
        "plt.plot(loss)\n",
        "plt.plot(val_loss)\n",
        "plt.title('Training and Validation Loss')\n",
        "plt.xlabel('Epochs')\n",
        "plt.ylabel('Loss')\n",
        "plt.legend(['Loss', 'Validation Loss'])\n",
        "\n",
        "plt.show()"
      ],
      "metadata": {
        "colab": {
          "base_uri": "https://localhost:8080/",
          "height": 410
        },
        "id": "lUEBHLfF40vq",
        "outputId": "7728ae02-f20a-4788-99c0-7c55497ea0a5"
      },
      "execution_count": null,
      "outputs": [
        {
          "output_type": "display_data",
          "data": {
            "text/plain": [
              "<Figure size 800x400 with 2 Axes>"
            ],
            "image/png": "[encoded data removed]"
          },
          "metadata": {}
        }
      ]
    },
    {
      "cell_type": "markdown",
      "source": [
        "## Model Metrics"
      ],
      "metadata": {
        "id": "wLMq1gVpEViC"
      }
    },
    {
      "cell_type": "code",
      "source": [
        "import numpy as np\n",
        "from sklearn.metrics import accuracy_score, recall_score, f1_score, classification_report\n",
        "\n",
        "true_labels = []\n",
        "for _, labels in test_dataset:\n",
        "    true_labels.extend(labels.numpy())\n",
        "\n",
        "predictions = model.predict(test_dataset)\n",
        "predicted_classes = np.argmax(predictions, axis=1)\n",
        "\n",
        "true_labels = np.array(true_labels)\n",
        "\n",
        "# Calculate accuracy\n",
        "accuracy = accuracy_score(true_labels, predicted_classes)\n",
        "print(f'Accuracy: {accuracy:.4f}')\n",
        "\n",
        "# Calculate recall\n",
        "recall = recall_score(true_labels, predicted_classes, average='weighted')  # Use 'macro', 'micro', or 'weighted' as needed\n",
        "print(f'Recall: {recall:.4f}')\n",
        "\n",
        "# Calculate F1 score\n",
        "f1 = f1_score(true_labels, predicted_classes, average='weighted')  # Use 'macro', 'micro', or 'weighted' as needed\n",
        "print(f'F1 Score: {f1:.4f}')\n",
        "\n",
        "print(\"\\nClassification Report:\\n\", classification_report(true_labels, predicted_classes))\n"
      ],
      "metadata": {
        "colab": {
          "base_uri": "https://localhost:8080/"
        },
        "id": "Skk03h-XDXxO",
        "outputId": "e96e8fb4-5731-4ff9-a014-fd4e48c4a57b"
      },
      "execution_count": null,
      "outputs": [
        {
          "output_type": "stream",
          "name": "stdout",
          "text": [
            "\u001b[1m23/23\u001b[0m \u001b[32m━━━━━━━━━━━━━━━━━━━━\u001b[0m\u001b[37m\u001b[0m \u001b[1m4s\u001b[0m 150ms/step\n",
            "Accuracy: 0.9795\n",
            "Recall: 0.9795\n",
            "F1 Score: 0.9794\n",
            "\n",
            "Classification Report:\n",
            "               precision    recall  f1-score   support\n",
            "\n",
            "           0       0.97      1.00      0.99       179\n",
            "           1       0.99      1.00      1.00       174\n",
            "           2       0.97      0.98      0.98       189\n",
            "           3       0.98      0.94      0.96       191\n",
            "\n",
            "    accuracy                           0.98       733\n",
            "   macro avg       0.98      0.98      0.98       733\n",
            "weighted avg       0.98      0.98      0.98       733\n",
            "\n"
          ]
        }
      ]
    },
    {
      "cell_type": "markdown",
      "source": [
        "## Save model"
      ],
      "metadata": {
        "id": "XeVcQGAnESZF"
      }
    },
    {
      "cell_type": "code",
      "source": [
        "model.save('my_model.keras')"
      ],
      "metadata": {
        "id": "nA_ozRRKBI--"
      },
      "execution_count": null,
      "outputs": []
    },
    {
      "cell_type": "code",
      "source": [
        "from google.colab import files\n",
        "\n",
        "# Download the Keras model file\n",
        "files.download('my_model.keras')"
      ],
      "metadata": {
        "colab": {
          "base_uri": "https://localhost:8080/",
          "height": 17
        },
        "id": "lb46nTtkB6X9",
        "outputId": "97ab1be5-5277-4b1d-e232-106c4dfb8bab"
      },
      "execution_count": null,
      "outputs": [
        {
          "output_type": "display_data",
          "data": {
            "text/plain": [
              "<IPython.core.display.Javascript object>"
            ],
            "application/javascript": [
              "\n",
              "    async function download(id, filename, size) {\n",
              "      if (!google.colab.kernel.accessAllowed) {\n",
              "        return;\n",
              "      }\n",
              "      const div = document.createElement('div');\n",
              "      const label = document.createElement('label');\n",
              "      label.textContent = `Downloading \"${filename}\": `;\n",
              "      div.appendChild(label);\n",
              "      const progress = document.createElement('progress');\n",
              "      progress.max = size;\n",
              "      div.appendChild(progress);\n",
              "      document.body.appendChild(div);\n",
              "\n",
              "      const buffers = [];\n",
              "      let downloaded = 0;\n",
              "\n",
              "      const channel = await google.colab.kernel.comms.open(id);\n",
              "      // Send a message to notify the kernel that we're ready.\n",
              "      channel.send({})\n",
              "\n",
              "      for await (const message of channel.messages) {\n",
              "        // Send a message to notify the kernel that we're ready.\n",
              "        channel.send({})\n",
              "        if (message.buffers) {\n",
              "          for (const buffer of message.buffers) {\n",
              "            buffers.push(buffer);\n",
              "            downloaded += buffer.byteLength;\n",
              "            progress.value = downloaded;\n",
              "          }\n",
              "        }\n",
              "      }\n",
              "      const blob = new Blob(buffers, {type: 'application/binary'});\n",
              "      const a = document.createElement('a');\n",
              "      a.href = window.URL.createObjectURL(blob);\n",
              "      a.download = filename;\n",
              "      div.appendChild(a);\n",
              "      a.click();\n",
              "      div.remove();\n",
              "    }\n",
              "  "
            ]
          },
          "metadata": {}
        },
        {
          "output_type": "display_data",
          "data": {
            "text/plain": [
              "<IPython.core.display.Javascript object>"
            ],
            "application/javascript": [
              "download(\"download_c5dc8cfa-8b3b-4e97-accd-39f0a80cce12\", \"my_model.keras\", 6873975)"
            ]
          },
          "metadata": {}
        }
      ]
    },
    {
      "cell_type": "markdown",
      "source": [
        "## Predicciones"
      ],
      "metadata": {
        "id": "h-eN7QCakGjt"
      }
    },
    {
      "cell_type": "code",
      "source": [
        "path = '/content/drive/MyDrive/Data Tesis/Modelos'"
      ],
      "metadata": {
        "id": "TQON34i3tBGt"
      },
      "execution_count": null,
      "outputs": []
    },
    {
      "cell_type": "code",
      "source": [
        "import tensorflow as tf\n",
        "\n",
        "# Load the model\n",
        "model = tf.keras.models.load_model(path + '/my_model.keras')\n",
        "\n",
        "# Example text to classify\n",
        "text_input = [\"I know how I'm gonna kill mayself, I know the time and the place, wish me luck\"]\n",
        "\n",
        "predictions = model(tf.constant(text_input))\n",
        "predicted_class = tf.argmax(predictions, axis=-1).numpy()  # Get the predicted class index\n",
        "print(\"Predicted class:\", predicted_class)"
      ],
      "metadata": {
        "colab": {
          "base_uri": "https://localhost:8080/"
        },
        "id": "OMn0ek0Yn-Mu",
        "outputId": "3f12e3ee-6391-4a0a-8e00-9f3af88a80a3"
      },
      "execution_count": null,
      "outputs": [
        {
          "output_type": "stream",
          "name": "stdout",
          "text": [
            "Predicted class: [3]\n"
          ]
        }
      ]
    },
    {
      "cell_type": "code",
      "source": [
        "# Load the model\n",
        "model = tf.keras.models.load_model(path + '/my_model.keras')\n",
        "\n",
        "# Example text to classify\n",
        "text_input = [\"I know how I'm gonna kill mayself, I know the time and the place, wish me luck\"]\n",
        "\n",
        "predictions = model(tf.constant(text_input))\n",
        "predictions_percent = predictions.numpy()  # Convert to percentages\n",
        "\n",
        "print(predictions_percent)\n",
        "\n",
        "for i, percent in enumerate(predictions_percent[0], 1):  # assuming single input\n",
        "    print(f\"Label {i}: {percent:.2f}%\")"
      ],
      "metadata": {
        "colab": {
          "base_uri": "https://localhost:8080/"
        },
        "id": "IRCzKshhnChw",
        "outputId": "0f72f267-c1b5-48c1-c73a-710b5e2cd51b"
      },
      "execution_count": null,
      "outputs": [
        {
          "output_type": "stream",
          "name": "stdout",
          "text": [
            "[[1.1440604e-03 5.5347711e-05 2.8477035e-02 9.7032350e-01]]\n",
            "Label 1: 0.00%\n",
            "Label 2: 0.00%\n",
            "Label 3: 0.03%\n",
            "Label 4: 0.97%\n"
          ]
        }
      ]
    }
  ]
}